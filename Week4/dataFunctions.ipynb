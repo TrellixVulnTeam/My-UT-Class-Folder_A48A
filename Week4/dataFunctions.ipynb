{
 "metadata": {
  "language_info": {
   "codemirror_mode": {
    "name": "ipython",
    "version": 3
   },
   "file_extension": ".py",
   "mimetype": "text/x-python",
   "name": "python",
   "nbconvert_exporter": "python",
   "pygments_lexer": "ipython3",
   "version": "3.8.3-final"
  },
  "orig_nbformat": 2,
  "kernelspec": {
   "name": "python3",
   "display_name": "Python 3",
   "language": "python"
  }
 },
 "nbformat": 4,
 "nbformat_minor": 2,
 "cells": [
  {
   "cell_type": "code",
   "execution_count": 1,
   "metadata": {},
   "outputs": [],
   "source": [
    "import pandas as pd"
   ]
  },
  {
   "cell_type": "code",
   "execution_count": 5,
   "metadata": {},
   "outputs": [],
   "source": [
    "data_file_path = './dataSet.csv'"
   ]
  },
  {
   "cell_type": "code",
   "execution_count": 6,
   "metadata": {},
   "outputs": [],
   "source": [
    "datafile_df = pd.read_csv(data_file_path,index_col='id')"
   ]
  },
  {
   "cell_type": "code",
   "execution_count": 7,
   "metadata": {},
   "outputs": [
    {
     "output_type": "execute_result",
     "data": {
      "text/plain": [
       "   First Name Last Name Gender   Amount\n",
       "id                                     \n",
       "1        Todd     Lopez      M   8067.7\n",
       "2      Joshua     White      M   7330.1\n",
       "3        Mary     Lewis      F  16335.0\n",
       "4       Emily     Burns      F  12460.8\n",
       "5   Christina    Romero      F  15271.9"
      ],
      "text/html": "<div>\n<style scoped>\n    .dataframe tbody tr th:only-of-type {\n        vertical-align: middle;\n    }\n\n    .dataframe tbody tr th {\n        vertical-align: top;\n    }\n\n    .dataframe thead th {\n        text-align: right;\n    }\n</style>\n<table border=\"1\" class=\"dataframe\">\n  <thead>\n    <tr style=\"text-align: right;\">\n      <th></th>\n      <th>First Name</th>\n      <th>Last Name</th>\n      <th>Gender</th>\n      <th>Amount</th>\n    </tr>\n    <tr>\n      <th>id</th>\n      <th></th>\n      <th></th>\n      <th></th>\n      <th></th>\n    </tr>\n  </thead>\n  <tbody>\n    <tr>\n      <th>1</th>\n      <td>Todd</td>\n      <td>Lopez</td>\n      <td>M</td>\n      <td>8067.7</td>\n    </tr>\n    <tr>\n      <th>2</th>\n      <td>Joshua</td>\n      <td>White</td>\n      <td>M</td>\n      <td>7330.1</td>\n    </tr>\n    <tr>\n      <th>3</th>\n      <td>Mary</td>\n      <td>Lewis</td>\n      <td>F</td>\n      <td>16335.0</td>\n    </tr>\n    <tr>\n      <th>4</th>\n      <td>Emily</td>\n      <td>Burns</td>\n      <td>F</td>\n      <td>12460.8</td>\n    </tr>\n    <tr>\n      <th>5</th>\n      <td>Christina</td>\n      <td>Romero</td>\n      <td>F</td>\n      <td>15271.9</td>\n    </tr>\n  </tbody>\n</table>\n</div>"
     },
     "metadata": {},
     "execution_count": 7
    }
   ],
   "source": [
    "datafile_df.head()"
   ]
  },
  {
   "cell_type": "code",
   "execution_count": 10,
   "metadata": {},
   "outputs": [
    {
     "output_type": "execute_result",
     "data": {
      "text/plain": [
       "      First Name   Amount\n",
       "id                       \n",
       "1           Todd   8067.7\n",
       "2         Joshua   7330.1\n",
       "3           Mary  16335.0\n",
       "4          Emily  12460.8\n",
       "5      Christina  15271.9\n",
       "...          ...      ...\n",
       "996        Paula  17868.5\n",
       "997        Paula  15182.9\n",
       "998       Thomas   3720.7\n",
       "999   Jacqueline  10824.6\n",
       "1000     Deborah   6090.7\n",
       "\n",
       "[1000 rows x 2 columns]"
      ],
      "text/html": "<div>\n<style scoped>\n    .dataframe tbody tr th:only-of-type {\n        vertical-align: middle;\n    }\n\n    .dataframe tbody tr th {\n        vertical-align: top;\n    }\n\n    .dataframe thead th {\n        text-align: right;\n    }\n</style>\n<table border=\"1\" class=\"dataframe\">\n  <thead>\n    <tr style=\"text-align: right;\">\n      <th></th>\n      <th>First Name</th>\n      <th>Amount</th>\n    </tr>\n    <tr>\n      <th>id</th>\n      <th></th>\n      <th></th>\n    </tr>\n  </thead>\n  <tbody>\n    <tr>\n      <th>1</th>\n      <td>Todd</td>\n      <td>8067.7</td>\n    </tr>\n    <tr>\n      <th>2</th>\n      <td>Joshua</td>\n      <td>7330.1</td>\n    </tr>\n    <tr>\n      <th>3</th>\n      <td>Mary</td>\n      <td>16335.0</td>\n    </tr>\n    <tr>\n      <th>4</th>\n      <td>Emily</td>\n      <td>12460.8</td>\n    </tr>\n    <tr>\n      <th>5</th>\n      <td>Christina</td>\n      <td>15271.9</td>\n    </tr>\n    <tr>\n      <th>...</th>\n      <td>...</td>\n      <td>...</td>\n    </tr>\n    <tr>\n      <th>996</th>\n      <td>Paula</td>\n      <td>17868.5</td>\n    </tr>\n    <tr>\n      <th>997</th>\n      <td>Paula</td>\n      <td>15182.9</td>\n    </tr>\n    <tr>\n      <th>998</th>\n      <td>Thomas</td>\n      <td>3720.7</td>\n    </tr>\n    <tr>\n      <th>999</th>\n      <td>Jacqueline</td>\n      <td>10824.6</td>\n    </tr>\n    <tr>\n      <th>1000</th>\n      <td>Deborah</td>\n      <td>6090.7</td>\n    </tr>\n  </tbody>\n</table>\n<p>1000 rows × 2 columns</p>\n</div>"
     },
     "metadata": {},
     "execution_count": 10
    }
   ],
   "source": [
    "datafile_df[['First Name','Amount']]"
   ]
  },
  {
   "cell_type": "code",
   "execution_count": 11,
   "metadata": {},
   "outputs": [
    {
     "output_type": "execute_result",
     "data": {
      "text/plain": [
       "pandas.core.frame.DataFrame"
      ]
     },
     "metadata": {},
     "execution_count": 11
    }
   ],
   "source": [
    "type(datafile_df[['First Name','Amount']])"
   ]
  },
  {
   "cell_type": "code",
   "execution_count": 12,
   "metadata": {},
   "outputs": [
    {
     "output_type": "execute_result",
     "data": {
      "text/plain": [
       "             Amount\n",
       "count   1000.000000\n",
       "mean   10051.323600\n",
       "std     5831.230806\n",
       "min        3.400000\n",
       "25%     4854.875000\n",
       "50%    10318.050000\n",
       "75%    15117.425000\n",
       "max    19987.400000"
      ],
      "text/html": "<div>\n<style scoped>\n    .dataframe tbody tr th:only-of-type {\n        vertical-align: middle;\n    }\n\n    .dataframe tbody tr th {\n        vertical-align: top;\n    }\n\n    .dataframe thead th {\n        text-align: right;\n    }\n</style>\n<table border=\"1\" class=\"dataframe\">\n  <thead>\n    <tr style=\"text-align: right;\">\n      <th></th>\n      <th>Amount</th>\n    </tr>\n  </thead>\n  <tbody>\n    <tr>\n      <th>count</th>\n      <td>1000.000000</td>\n    </tr>\n    <tr>\n      <th>mean</th>\n      <td>10051.323600</td>\n    </tr>\n    <tr>\n      <th>std</th>\n      <td>5831.230806</td>\n    </tr>\n    <tr>\n      <th>min</th>\n      <td>3.400000</td>\n    </tr>\n    <tr>\n      <th>25%</th>\n      <td>4854.875000</td>\n    </tr>\n    <tr>\n      <th>50%</th>\n      <td>10318.050000</td>\n    </tr>\n    <tr>\n      <th>75%</th>\n      <td>15117.425000</td>\n    </tr>\n    <tr>\n      <th>max</th>\n      <td>19987.400000</td>\n    </tr>\n  </tbody>\n</table>\n</div>"
     },
     "metadata": {},
     "execution_count": 12
    }
   ],
   "source": [
    "datafile_df.describe()"
   ]
  },
  {
   "cell_type": "code",
   "execution_count": 13,
   "metadata": {},
   "outputs": [
    {
     "output_type": "execute_result",
     "data": {
      "text/plain": [
       "First Name     object\n",
       "Last Name      object\n",
       "Gender         object\n",
       "Amount        float64\n",
       "dtype: object"
      ]
     },
     "metadata": {},
     "execution_count": 13
    }
   ],
   "source": [
    "datafile_df.dtypes"
   ]
  },
  {
   "cell_type": "code",
   "execution_count": 14,
   "metadata": {},
   "outputs": [
    {
     "output_type": "execute_result",
     "data": {
      "text/plain": [
       "Amount    10051.3236\n",
       "dtype: float64"
      ]
     },
     "metadata": {},
     "execution_count": 14
    }
   ],
   "source": [
    "datafile_df.mean()"
   ]
  },
  {
   "cell_type": "code",
   "execution_count": 15,
   "metadata": {},
   "outputs": [
    {
     "output_type": "execute_result",
     "data": {
      "text/plain": [
       "10051.323600000002"
      ]
     },
     "metadata": {},
     "execution_count": 15
    }
   ],
   "source": [
    "datafile_df['Amount'].mean()"
   ]
  },
  {
   "cell_type": "code",
   "execution_count": 16,
   "metadata": {},
   "outputs": [
    {
     "output_type": "execute_result",
     "data": {
      "text/plain": [
       "array([['Todd', 'Lopez', 'M', 8067.7],\n",
       "       ['Joshua', 'White', 'M', 7330.1],\n",
       "       ['Mary', 'Lewis', 'F', 16335.0],\n",
       "       ...,\n",
       "       ['Thomas', 'Andrews', 'M', 3720.7],\n",
       "       ['Jacqueline', 'Moreno', 'F', 10824.6],\n",
       "       ['Deborah', 'Young', 'F', 6090.7]], dtype=object)"
      ]
     },
     "metadata": {},
     "execution_count": 16
    }
   ],
   "source": [
    "datafile_df.values"
   ]
  },
  {
   "cell_type": "code",
   "execution_count": 17,
   "metadata": {},
   "outputs": [
    {
     "output_type": "execute_result",
     "data": {
      "text/plain": [
       "id\n",
       "1        8.0677\n",
       "2        7.3301\n",
       "3       16.3350\n",
       "4       12.4608\n",
       "5       15.2719\n",
       "         ...   \n",
       "996     17.8685\n",
       "997     15.1829\n",
       "998      3.7207\n",
       "999     10.8246\n",
       "1000     6.0907\n",
       "Name: Amount, Length: 1000, dtype: float64"
      ]
     },
     "metadata": {},
     "execution_count": 17
    }
   ],
   "source": [
    "datafile_df['Amount'] / 1000"
   ]
  },
  {
   "cell_type": "code",
   "execution_count": 21,
   "metadata": {},
   "outputs": [],
   "source": [
    "def add_one(someNumber):\n",
    "  someNumber = someNumber + 1\n",
    "  return someNumber"
   ]
  },
  {
   "cell_type": "code",
   "execution_count": 22,
   "metadata": {},
   "outputs": [
    {
     "output_type": "execute_result",
     "data": {
      "text/plain": [
       "id\n",
       "1        8068.7\n",
       "2        7331.1\n",
       "3       16336.0\n",
       "4       12461.8\n",
       "5       15272.9\n",
       "         ...   \n",
       "996     17869.5\n",
       "997     15183.9\n",
       "998      3721.7\n",
       "999     10825.6\n",
       "1000     6091.7\n",
       "Name: Amount, Length: 1000, dtype: float64"
      ]
     },
     "metadata": {},
     "execution_count": 22
    }
   ],
   "source": [
    "datafile_df['Amount'].apply(add_one)"
   ]
  },
  {
   "cell_type": "code",
   "execution_count": null,
   "metadata": {},
   "outputs": [],
   "source": []
  }
 ]
}